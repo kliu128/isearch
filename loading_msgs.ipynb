{
 "cells": [
  {
   "cell_type": "code",
   "execution_count": 12,
   "metadata": {},
   "outputs": [],
   "source": [
    "import sqlite3\n",
    "\n",
    "db = sqlite3.connect('/Users/kevin/chat_isearch.db')"
   ]
  },
  {
   "cell_type": "code",
   "execution_count": 13,
   "metadata": {},
   "outputs": [
    {
     "data": {
      "text/plain": [
       "<sqlite3.Cursor at 0x10632b940>"
      ]
     },
     "execution_count": 13,
     "metadata": {},
     "output_type": "execute_result"
    }
   ],
   "source": [
    "db.execute(\"\"\"\n",
    "attach database '/Users/kevin/chat.db' as imsg;\n",
    "\"\"\")"
   ]
  },
  {
   "cell_type": "code",
   "execution_count": 14,
   "metadata": {},
   "outputs": [
    {
     "data": {
      "text/plain": [
       "[('2023-02-18 09:50:24',\n",
       "  698435424,\n",
       "  '54680226-B488-4D25-A30F-B25DF156FF07',\n",
       "  None,\n",
       "  0,\n",
       "  388,\n",
       "  ''),\n",
       " ('2023-02-18 09:26:12',\n",
       "  698433972,\n",
       "  '983AF240-750A-402B-85CA-5CA6DB5554FF',\n",
       "  None,\n",
       "  1,\n",
       "  415,\n",
       "  ''),\n",
       " ('2023-02-18 09:24:27',\n",
       "  698433867,\n",
       "  '21782CDA-EF59-45B1-9A4B-05DE5C35FFE1',\n",
       "  None,\n",
       "  0,\n",
       "  388,\n",
       "  ''),\n",
       " ('2023-02-18 09:21:13',\n",
       "  698433673,\n",
       "  '028B2483-0E52-423B-9233-FF068CD75C30',\n",
       "  None,\n",
       "  1,\n",
       "  415,\n",
       "  ''),\n",
       " ('2023-02-18 09:20:48',\n",
       "  698433648,\n",
       "  '1DBD4C53-880F-42B6-88E6-4AA1A92EF36F',\n",
       "  None,\n",
       "  1,\n",
       "  415,\n",
       "  ''),\n",
       " ('2023-02-18 09:20:23',\n",
       "  698433623,\n",
       "  'ED839A36-66AF-45F8-8EED-524D8D95F004',\n",
       "  'beat em up',\n",
       "  1,\n",
       "  388,\n",
       "  ''),\n",
       " ('2023-02-18 09:20:11',\n",
       "  698433611,\n",
       "  '9AA1A782-6376-4974-8085-CB04AC3949EB',\n",
       "  'Exactlyyy',\n",
       "  1,\n",
       "  388,\n",
       "  ''),\n",
       " ('2023-02-18 09:20:07',\n",
       "  698433607,\n",
       "  'D46744E7-E6EE-4D25-8135-4AD81CB6C67B',\n",
       "  'Loved “Lol hopefully this rollup stuff can make this not the case”',\n",
       "  1,\n",
       "  388,\n",
       "  ''),\n",
       " ('2023-02-18 09:18:47',\n",
       "  698433527,\n",
       "  '35EF1468-DA1B-4A8B-B1FF-36A8F69E8392',\n",
       "  None,\n",
       "  0,\n",
       "  388,\n",
       "  ''),\n",
       " ('2023-02-18 09:17:46',\n",
       "  698433466,\n",
       "  '90CC4E6B-95FB-4031-8836-547CDF97AC7B',\n",
       "  'Lol',\n",
       "  1,\n",
       "  388,\n",
       "  '')]"
      ]
     },
     "execution_count": 14,
     "metadata": {},
     "output_type": "execute_result"
    }
   ],
   "source": [
    "db.execute(\"\"\"\n",
    "select\n",
    "    datetime (message.date / 1000000000 + strftime (\"%s\", \"2001-01-01\"), \"unixepoch\", \"localtime\") AS message_date,\n",
    "    message.date / 1000000000, -- nanosecond epoch -> seconds since epoch\n",
    "\tmessage.guid as guid,\n",
    "\tmessage.text, \n",
    "\tmessage.is_from_me, \n",
    "\tmessage.handle_id, \n",
    "\tchat.display_name\n",
    "from\n",
    "\timsg.chat\n",
    "\t-- Find chat IDs\n",
    "    JOIN chat_message_join ON imsg.chat. \"ROWID\" = chat_message_join.chat_id\n",
    "    JOIN message ON chat_message_join.message_id = message. \"ROWID\"\n",
    "    -- Filter by messages where we haven't calculates message embeddings.\n",
    "\tfull outer join message_embeddings on message_embeddings.guid = message.guid \n",
    "where\n",
    "\tmessage_embeddings.embed is null\n",
    "order by\n",
    "\tmessage_date desc\n",
    "limit 10;\n",
    "\"\"\").fetchall()"
   ]
  },
  {
   "cell_type": "code",
   "execution_count": 1,
   "metadata": {},
   "outputs": [
    {
     "name": "stderr",
     "output_type": "stream",
     "text": [
      "/Users/kevin/.local/share/virtualenvs/isearch-Xn7T1C7t/lib/python3.10/site-packages/tqdm/auto.py:22: TqdmWarning: IProgress not found. Please update jupyter and ipywidgets. See https://ipywidgets.readthedocs.io/en/stable/user_install.html\n",
      "  from .autonotebook import tqdm as notebook_tqdm\n"
     ]
    }
   ],
   "source": [
    "from sentence_transformers import SentenceTransformer\n",
    "model = SentenceTransformer('all-MiniLM-L6-v2')"
   ]
  },
  {
   "cell_type": "code",
   "execution_count": 3,
   "metadata": {},
   "outputs": [],
   "source": [
    "model = model.to(\"mps\")\n",
    "model.device"
   ]
  },
  {
   "cell_type": "code",
   "execution_count": 5,
   "metadata": {},
   "outputs": [
    {
     "name": "stdout",
     "output_type": "stream",
     "text": [
      "Encoding time:  72.55669522285461\n"
     ]
    }
   ],
   "source": [
    "# Throughput test\n",
    "\n",
    "# Create a 256 byte sentence\n",
    "sent = \"A\" * 256\n",
    "sentences = [sent] * 4096 # 256kb\n",
    "sentences *= 32 # 8MB\n",
    "\n",
    "# Time the encoding for 8 MB\n",
    "import time\n",
    "start = time.time()\n",
    "embeddings = model.encode(sentences, convert_to_tensor=True)\n",
    "end = time.time()\n",
    "print(\"Encoding time: \", end - start)"
   ]
  }
 ],
 "metadata": {
  "kernelspec": {
   "display_name": "isearch-Xn7T1C7t",
   "language": "python",
   "name": "python3"
  },
  "language_info": {
   "codemirror_mode": {
    "name": "ipython",
    "version": 3
   },
   "file_extension": ".py",
   "mimetype": "text/x-python",
   "name": "python",
   "nbconvert_exporter": "python",
   "pygments_lexer": "ipython3",
   "version": "3.10.9"
  },
  "orig_nbformat": 4,
  "vscode": {
   "interpreter": {
    "hash": "a1c4519aa2206cd28ed634beb524af6109df5e05cbbbf58348f4a457770e2d8f"
   }
  }
 },
 "nbformat": 4,
 "nbformat_minor": 2
}
